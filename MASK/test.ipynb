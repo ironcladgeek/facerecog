{
 "cells": [
  {
   "cell_type": "code",
   "execution_count": 1,
   "id": "adjusted-bicycle",
   "metadata": {},
   "outputs": [],
   "source": [
    "from facemasker import FaceMasker"
   ]
  },
  {
   "cell_type": "code",
   "execution_count": 2,
   "id": "racial-ordinance",
   "metadata": {
    "scrolled": true
   },
   "outputs": [
    {
     "name": "stderr",
     "output_type": "stream",
     "text": [
      "107it [00:51,  2.06it/s]"
     ]
    },
    {
     "name": "stdout",
     "output_type": "stream",
     "text": [
      "CPU times: user 51.6 s, sys: 1.01 s, total: 52.7 s\n",
      "Wall time: 51.9 s\n"
     ]
    },
    {
     "name": "stderr",
     "output_type": "stream",
     "text": [
      "\n"
     ]
    }
   ],
   "source": [
    "%%time\n",
    "import glob\n",
    "from tqdm import tqdm\n",
    "for i in tqdm(glob.iglob(\"gallery/*.jpg\")):\n",
    "    f = FaceMasker(face_path = i, mask_path=\"images/\",out_path=\"out\")\n",
    "    f.mask()"
   ]
  }
 ],
 "metadata": {
  "kernelspec": {
   "display_name": "Python 3",
   "language": "python",
   "name": "python3"
  },
  "language_info": {
   "codemirror_mode": {
    "name": "ipython",
    "version": 3
   },
   "file_extension": ".py",
   "mimetype": "text/x-python",
   "name": "python",
   "nbconvert_exporter": "python",
   "pygments_lexer": "ipython3",
   "version": "3.6.12"
  }
 },
 "nbformat": 4,
 "nbformat_minor": 5
}
